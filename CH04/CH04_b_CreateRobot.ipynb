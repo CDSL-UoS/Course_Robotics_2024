{
 "cells": [
  {
   "cell_type": "markdown",
   "metadata": {},
   "source": [
    "## **[2024년 1학기 로봇공학] Ch. 4-b. Create a Robot (TBA)**"
   ]
  },
  {
   "cell_type": "markdown",
   "metadata": {},
   "source": [
    "- 작성자 : 서울시립대학교 전자전기컴퓨터공학부 박경훈 교수(gyunghoon.park@uos.ac.kr)\n",
    "- 작성일 : -"
   ]
  },
  {
   "cell_type": "code",
   "execution_count": 38,
   "metadata": {},
   "outputs": [],
   "source": [
    "import spatialgeometry as sg\n",
    "import spatialmath as sm\n",
    "import roboticstoolbox as rtb\n",
    "import numpy as np\n",
    "from spatialmath.base import *\n",
    "from math import *\n",
    "from scipy import *\n",
    "from roboticstoolbox.backends import swift\n",
    "env = swift.Swift()"
   ]
  },
  {
   "cell_type": "markdown",
   "metadata": {},
   "source": [
    "Ch. 4-b에서는 `Robotics Toolbox for Python` 환경에서 직접 로봇을 생성하는 방법에 대해 살펴보겠습니다.\\\n",
    "**이후 작성 예정입니다...**"
   ]
  }
 ],
 "metadata": {
  "kernelspec": {
   "display_name": "Python 3",
   "language": "python",
   "name": "python3"
  },
  "language_info": {
   "codemirror_mode": {
    "name": "ipython",
    "version": 3
   },
   "file_extension": ".py",
   "mimetype": "text/x-python",
   "name": "python",
   "nbconvert_exporter": "python",
   "pygments_lexer": "ipython3",
   "version": "3.12.2"
  }
 },
 "nbformat": 4,
 "nbformat_minor": 2
}
