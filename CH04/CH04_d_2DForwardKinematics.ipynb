{
 "cells": [
  {
   "cell_type": "markdown",
   "metadata": {},
   "source": [
    "## **[2024년 1학기 로봇공학] Ch. 4-d. 2D Forward Kinematics**"
   ]
  },
  {
   "cell_type": "markdown",
   "metadata": {},
   "source": [
    "- 작성자 : 서울시립대학교 전자전기컴퓨터공학부 박경훈 교수(gyunghoon.park@uos.ac.kr)\n",
    "- 작성일 : 2024. 4. 23."
   ]
  },
  {
   "cell_type": "code",
   "execution_count": 125,
   "metadata": {},
   "outputs": [],
   "source": [
    "import spatialmath as sm\n",
    "import roboticstoolbox as rtb\n",
    "import numpy as np\n",
    "from spatialmath.base import *\n",
    "from math import *\n",
    "from scipy import *\n",
    "%matplotlib inline"
   ]
  },
  {
   "cell_type": "markdown",
   "metadata": {},
   "source": [
    "Ch. 4-d에서는 2D에서 정의된 planar manipulator들의 forward kinematics를 구하는 법에 대해 살펴봅시다."
   ]
  },
  {
   "cell_type": "markdown",
   "metadata": {},
   "source": [
    "### **Topic 1 : Introduction to Elementary Transformation**"
   ]
  },
  {
   "cell_type": "markdown",
   "metadata": {},
   "source": [
    "4-a에서 소개한 대로, `Robotics Toolbox for Python`에서는 elementary transformation들의 조합을 통해 로봇을 정의할 수 있습니다.\\\n",
    "2D에서는 `ET2`라는 class를 이용합니다."
   ]
  },
  {
   "cell_type": "code",
   "execution_count": 126,
   "metadata": {},
   "outputs": [],
   "source": [
    "a1 = 1\n",
    "e = rtb.ET2.R() * rtb.ET2.tx(a1)"
   ]
  },
  {
   "cell_type": "markdown",
   "metadata": {},
   "source": [
    "위에서 2D rotation matrix `ET2.R()` 함수의 입력을 공백으로 두었기 때문에, 그에 대응되는 회전각 $q$는 자유도를 가집니다.\\\n",
    "`print` 함수를 이용하여 확인해봅시다.  "
   ]
  },
  {
   "cell_type": "code",
   "execution_count": 127,
   "metadata": {},
   "outputs": [
    {
     "name": "stdout",
     "output_type": "stream",
     "text": [
      "R(q) ⊕ tx(1)\n"
     ]
    }
   ],
   "source": [
    "print(e)"
   ]
  },
  {
   "cell_type": "markdown",
   "metadata": {},
   "source": [
    "이제 forward kinematics를 계산하는 `fkine` 함수를 이용하여 $q$ 값을 지정해주면 end-effector의 위치와 자세를 설명하는 2D homogeneous transformation을 얻게 됩니다. "
   ]
  },
  {
   "cell_type": "code",
   "execution_count": 128,
   "metadata": {},
   "outputs": [
    {
     "name": "stdout",
     "output_type": "stream",
     "text": [
      "  \u001b[38;5;1m 0.866   \u001b[0m \u001b[38;5;1m-0.5     \u001b[0m \u001b[38;5;4m 0.866   \u001b[0m  \u001b[0m\n",
      "  \u001b[38;5;1m 0.5     \u001b[0m \u001b[38;5;1m 0.866   \u001b[0m \u001b[38;5;4m 0.5     \u001b[0m  \u001b[0m\n",
      "  \u001b[38;5;244m 0       \u001b[0m \u001b[38;5;244m 0       \u001b[0m \u001b[38;5;244m 1       \u001b[0m  \u001b[0m\n",
      "\n"
     ]
    }
   ],
   "source": [
    "print(e.fkine(pi/6))"
   ]
  },
  {
   "cell_type": "markdown",
   "metadata": {},
   "source": [
    "위의 2D homogeneous transformation은 ${\\rm Rot}(\\hat{z},\\pi/6){\\rm Trans}(\\hat{x},a_1)$을 나타냅니다."
   ]
  },
  {
   "cell_type": "code",
   "execution_count": 129,
   "metadata": {},
   "outputs": [
    {
     "data": {
      "text/plain": [
       "  \u001b[38;5;1m 0.866   \u001b[0m \u001b[38;5;1m-0.5     \u001b[0m \u001b[38;5;4m 0.866   \u001b[0m  \u001b[0m\n",
       "  \u001b[38;5;1m 0.5     \u001b[0m \u001b[38;5;1m 0.866   \u001b[0m \u001b[38;5;4m 0.5     \u001b[0m  \u001b[0m\n",
       "  \u001b[38;5;244m 0       \u001b[0m \u001b[38;5;244m 0       \u001b[0m \u001b[38;5;244m 1       \u001b[0m  \u001b[0m\n"
      ]
     },
     "execution_count": 129,
     "metadata": {},
     "output_type": "execute_result"
    }
   ],
   "source": [
    "sm.SE2.Rot(pi/6) * sm.SE2.Tx(a1)"
   ]
  },
  {
   "cell_type": "markdown",
   "metadata": {},
   "source": [
    "### **Topic 2 : Forward kinematics via elementary transformation sequence**"
   ]
  },
  {
   "cell_type": "markdown",
   "metadata": {},
   "source": [
    "이제 본격적으로 다수의 elementary transformation들을 조합한 ETS 형태의 로봇을 정의하고, 이에 대한 forward kinematics를 구해봅시다.\\\n",
    "다음과 같이 link 길이가 $a_1=1$, $a_2=1$인 2DoF planar manipulator 모델을 생성합시다."
   ]
  },
  {
   "cell_type": "code",
   "execution_count": 130,
   "metadata": {},
   "outputs": [],
   "source": [
    "a1 = 1\n",
    "a2 = 1\n",
    "robot = rtb.ET2.R() * rtb.ET2.tx(a1) * rtb.ET2.R() * rtb.ET2.tx(a2)"
   ]
  },
  {
   "cell_type": "markdown",
   "metadata": {},
   "source": [
    "`print` 함수로 위의 `robot`을 출력하면 다음을 얻습니다. "
   ]
  },
  {
   "cell_type": "code",
   "execution_count": 131,
   "metadata": {},
   "outputs": [
    {
     "name": "stdout",
     "output_type": "stream",
     "text": [
      "R(q0) ⊕ tx(1) ⊕ R(q1) ⊕ tx(1)\n"
     ]
    }
   ],
   "source": [
    "print(robot)"
   ]
  },
  {
   "cell_type": "markdown",
   "metadata": {},
   "source": [
    "이제 $q_0$, $q_1$의 값을 지정하면 다음을 얻습니다."
   ]
  },
  {
   "cell_type": "code",
   "execution_count": 132,
   "metadata": {},
   "outputs": [
    {
     "data": {
      "text/plain": [
       "  \u001b[38;5;1m 0       \u001b[0m \u001b[38;5;1m-1       \u001b[0m \u001b[38;5;4m 0.866   \u001b[0m  \u001b[0m\n",
       "  \u001b[38;5;1m 1       \u001b[0m \u001b[38;5;1m 0       \u001b[0m \u001b[38;5;4m 1.5     \u001b[0m  \u001b[0m\n",
       "  \u001b[38;5;244m 0       \u001b[0m \u001b[38;5;244m 0       \u001b[0m \u001b[38;5;244m 1       \u001b[0m  \u001b[0m\n"
      ]
     },
     "execution_count": 132,
     "metadata": {},
     "output_type": "execute_result"
    }
   ],
   "source": [
    "robot.fkine((pi/6, pi/3))"
   ]
  },
  {
   "cell_type": "markdown",
   "metadata": {},
   "source": [
    "`robot`의 세부 정보들은 아래와 같이 얻을 수 있습니다."
   ]
  },
  {
   "cell_type": "code",
   "execution_count": 133,
   "metadata": {},
   "outputs": [
    {
     "name": "stdout",
     "output_type": "stream",
     "text": [
      "DoF of `robot` : 2\n",
      "Joint of `robot` : [ET2.R(jindex=0), ET2.R(jindex=1)]\n",
      "Structure of `robot` : RR\n"
     ]
    }
   ],
   "source": [
    "print(\"DoF of `robot` :\", robot.n)\n",
    "print(\"Joint of `robot` :\", robot.joints())\n",
    "print(\"Structure of `robot` :\", robot.structure)"
   ]
  },
  {
   "cell_type": "markdown",
   "metadata": {},
   "source": [
    "### **Topic 2 : Chain of Robot Links**"
   ]
  },
  {
   "cell_type": "markdown",
   "metadata": {},
   "source": [
    "위와 동일한 로봇에 대해 `Link2` 함수를 이용하여 tree 구조를 명확하게 지정해줄 수 있습니다.\\\n",
    "2D planar manipulator를 구성하는 3개의 link를 아래와 같이 정의합시다.\\\n",
    "(여기서 children link를 정의할 때 parent link를 명확히 지정해주는 것이 중요합니다.)"
   ]
  },
  {
   "cell_type": "code",
   "execution_count": 134,
   "metadata": {},
   "outputs": [],
   "source": [
    "link1 = rtb.Link2(rtb.ET2.R(), name=\"link1\")\n",
    "link2 = rtb.Link2(rtb.ET2.tx(a1) * rtb.ET2.R(), name=\"link2\", parent=link1)\n",
    "link3 = rtb.Link2(rtb.ET2.tx(a2), name=\"link3\", parent=link2)"
   ]
  },
  {
   "cell_type": "markdown",
   "metadata": {},
   "source": [
    "이제 `ERobot2` 함수를 이용하여 위에서 정의된 `link`를 묶으면 다음과 같이 ETS 모델로 표현된 로봇을 정의할 수 있습니다."
   ]
  },
  {
   "cell_type": "code",
   "execution_count": 135,
   "metadata": {},
   "outputs": [
    {
     "name": "stdout",
     "output_type": "stream",
     "text": [
      "ERobot: myRobot, 2 joints (RR)\n",
      "┌─────┬────────┬───────┬────────┬─────────────────────┐\n",
      "│link │  link  │ joint │ parent │ ETS: parent to link │\n",
      "├─────┼────────┼───────┼────────┼─────────────────────┤\n",
      "│   0\u001b[0m │ link1\u001b[0m  │     0\u001b[0m │ BASE\u001b[0m   │ R(q0)\u001b[0m               │\n",
      "│   1\u001b[0m │ link2\u001b[0m  │     1\u001b[0m │ link1\u001b[0m  │ tx(1) ⊕ R(q1)\u001b[0m       │\n",
      "│   2\u001b[0m │ \u001b[38;5;4m@link3\u001b[0m │      \u001b[0m │ link2\u001b[0m  │ tx(1)\u001b[0m               │\n",
      "└─────┴────────┴───────┴────────┴─────────────────────┘\n",
      "\n"
     ]
    }
   ],
   "source": [
    "robot = rtb.ERobot2([link1, link2, link3], name = \"myRobot\")\n",
    "print(robot)"
   ]
  },
  {
   "cell_type": "markdown",
   "metadata": {},
   "source": [
    "이제 `fkine` 함수를 이용하여 forward kinematics를 계산합시다."
   ]
  },
  {
   "cell_type": "code",
   "execution_count": 136,
   "metadata": {},
   "outputs": [
    {
     "data": {
      "text/plain": [
       "  \u001b[38;5;1m 0       \u001b[0m \u001b[38;5;1m-1       \u001b[0m \u001b[38;5;4m 0.866   \u001b[0m  \u001b[0m\n",
       "  \u001b[38;5;1m 1       \u001b[0m \u001b[38;5;1m 0       \u001b[0m \u001b[38;5;4m 1.5     \u001b[0m  \u001b[0m\n",
       "  \u001b[38;5;244m 0       \u001b[0m \u001b[38;5;244m 0       \u001b[0m \u001b[38;5;244m 1       \u001b[0m  \u001b[0m\n"
      ]
     },
     "execution_count": 136,
     "metadata": {},
     "output_type": "execute_result"
    }
   ],
   "source": [
    "robot.fkine([pi/6,pi/3])"
   ]
  },
  {
   "cell_type": "markdown",
   "metadata": {},
   "source": [
    "한편 ETS 모델로 정의된 `robot`을 구성하는 link들은, `robot[idx]`의 형태로 출력할 수 있습니다."
   ]
  },
  {
   "cell_type": "code",
   "execution_count": 137,
   "metadata": {},
   "outputs": [
    {
     "name": "stdout",
     "output_type": "stream",
     "text": [
      "Link2(\"link2\", tx(1) ⊕ R(q), parent=\"link1\")\n"
     ]
    }
   ],
   "source": [
    "print(robot[1])"
   ]
  },
  {
   "cell_type": "markdown",
   "metadata": {},
   "source": [
    "또한 특정 link의 parent link와 children link도 출력할 수 있습니다."
   ]
  },
  {
   "cell_type": "code",
   "execution_count": 138,
   "metadata": {},
   "outputs": [
    {
     "name": "stdout",
     "output_type": "stream",
     "text": [
      "Link2(\"link1\", R(q))\n",
      "[Link2([ET2.tx(eta=1.0)], name = \"link3\", parent=\"link2\")]\n"
     ]
    }
   ],
   "source": [
    "print(link2.parent)\n",
    "print(link2.children)"
   ]
  },
  {
   "cell_type": "markdown",
   "metadata": {},
   "source": [
    "### **Topic 3 : Forward kinematics via product of exponentials**"
   ]
  },
  {
   "cell_type": "markdown",
   "metadata": {},
   "source": [
    "Topic 3에서는 동일한 2D planar manipulator에 대하여, 주교재에서 주요하게 다루는 Product of Exponentials의 개념을 활용한 forward kinematics 계산을 수행해보겠습니다.\\\n",
    "이를 위해 `Twist2.UnitRevolute` 함수를 이용하여 2D screw axis $\\mathcal{S}_1$과 $\\mathcal{S}_2$를 아래와 같이 정의합니다."
   ]
  },
  {
   "cell_type": "code",
   "execution_count": 139,
   "metadata": {},
   "outputs": [
    {
     "name": "stdout",
     "output_type": "stream",
     "text": [
      "Screw axis for Joint 1 :  (-0 -0; 1)\n",
      "Screw axis for Joint 2 :  (-0 -1; 1)\n"
     ]
    }
   ],
   "source": [
    "S2 = sm.Twist2.UnitRevolute([a1,0])\n",
    "S1 = sm.Twist2.UnitRevolute([0,0])\n",
    "\n",
    "print('Screw axis for Joint 1 : ', S1)\n",
    "print('Screw axis for Joint 2 : ', S2)"
   ]
  },
  {
   "cell_type": "markdown",
   "metadata": {},
   "source": [
    "추가적으로 $q_1=q_2=0$일 때의 end-effector의 위치와 자세를 나타내는 2D homogeneous transformation $M$을 다음과 같이 계산합시다."
   ]
  },
  {
   "cell_type": "code",
   "execution_count": 140,
   "metadata": {},
   "outputs": [
    {
     "name": "stdout",
     "output_type": "stream",
     "text": [
      "[[1. 0. 2.]\n",
      " [0. 1. 0.]\n",
      " [0. 0. 1.]]\n"
     ]
    }
   ],
   "source": [
    "M = transl2(a1+a2,0)\n",
    "print(M)"
   ]
  },
  {
   "cell_type": "markdown",
   "metadata": {},
   "source": [
    "이제 Product of Exponentials로 정의된 forward kinematics $$T = e^{[\\mathcal{S}_1]q_1} e^{[\\mathcal{S}_2]q_2} M$$ 를 함수의 형태로 정의해봅시다."
   ]
  },
  {
   "cell_type": "code",
   "execution_count": 141,
   "metadata": {},
   "outputs": [],
   "source": [
    "def fkine_PoE(q1,q2):\n",
    "    a1 = 1\n",
    "    a2 = 1\n",
    "    S1 = sm.Twist2.UnitRevolute([0,0])\n",
    "    S2 = sm.Twist2.UnitRevolute([a1,0])\n",
    "    M = transl2(a1+a2,0)\n",
    "    T = S1.exp(q1) * S2.exp(q2) * M\n",
    "    return T"
   ]
  },
  {
   "cell_type": "code",
   "execution_count": 142,
   "metadata": {},
   "outputs": [
    {
     "name": "stdout",
     "output_type": "stream",
     "text": [
      "[[ 2.14607521e-16 -1.00000000e+00  8.66025404e-01]\n",
      " [ 1.00000000e+00  2.07170437e-16  1.50000000e+00]\n",
      " [ 0.00000000e+00  0.00000000e+00  1.00000000e+00]]\n"
     ]
    }
   ],
   "source": [
    "print(fkine_PoE(pi/6,pi/3))"
   ]
  },
  {
   "cell_type": "markdown",
   "metadata": {},
   "source": [
    "이제 위의 과정을 `trplot2`를 이용하여 그려봅시다."
   ]
  },
  {
   "cell_type": "code",
   "execution_count": 144,
   "metadata": {},
   "outputs": [
    {
     "data": {
      "text/plain": [
       "<Axes: xlabel='X', ylabel='Y'>"
      ]
     },
     "execution_count": 144,
     "metadata": {},
     "output_type": "execute_result"
    },
    {
     "data": {
      "image/png": "[encoded data removed]",
      "text/plain": [
       "<Figure size 640x480 with 1 Axes>"
      ]
     },
     "metadata": {},
     "output_type": "display_data"
    }
   ],
   "source": [
    "plotvol2([-4, 4])\n",
    "trplot2(transl2([0,0]), color = \"black\")\n",
    "trplot2(M, color = \"red\")\n",
    "trplot2(S2.SE2(pi/3) * M, color = \"green\")\n",
    "trplot2(fkine_PoE(pi/6,pi/3))"
   ]
  }
 ],
 "metadata": {
  "kernelspec": {
   "display_name": "Python 3",
   "language": "python",
   "name": "python3"
  },
  "language_info": {
   "codemirror_mode": {
    "name": "ipython",
    "version": 3
   },
   "file_extension": ".py",
   "mimetype": "text/x-python",
   "name": "python",
   "nbconvert_exporter": "python",
   "pygments_lexer": "ipython3",
   "version": "3.12.2"
  }
 },
 "nbformat": 4,
 "nbformat_minor": 2
}
