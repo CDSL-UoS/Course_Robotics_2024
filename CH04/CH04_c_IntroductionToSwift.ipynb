{
 "cells": [
  {
   "cell_type": "markdown",
   "metadata": {},
   "source": [
    "## **[2024년 1학기 로봇공학] Ch. 4-c. Introduction to Swift**"
   ]
  },
  {
   "cell_type": "markdown",
   "metadata": {},
   "source": [
    "- 작성자 : 서울시립대학교 전자전기컴퓨터공학부 박경훈 교수(gyunghoon.park@uos.ac.kr)\n",
    "- 작성일 : 2024. 4. 23."
   ]
  },
  {
   "cell_type": "code",
   "execution_count": 1,
   "metadata": {},
   "outputs": [],
   "source": [
    "import spatialgeometry as sg\n",
    "import spatialmath as sm\n",
    "import roboticstoolbox as rtb\n",
    "import numpy as np\n",
    "from spatialmath.base import *\n",
    "from math import *\n",
    "from scipy import *"
   ]
  },
  {
   "cell_type": "markdown",
   "metadata": {},
   "source": [
    "Ch. 4-c에서는 `Robotics Toolbox for Python` 상에서 수행할 수 있는 간단한 시뮬레이션 도구인 `Swift`에 대해 간단히 소개합니다.\\\n",
    "(github repo. : https://github.com/jhavl/swift)\\\n",
    "만약 `Swift`가 설치되지 않았다면 `pip`를 이용하여 추가로 설치해줄 필요가 있습니다. 설치가 마무리되었다면 아래와 같이 불러옵니다."
   ]
  },
  {
   "cell_type": "code",
   "execution_count": 2,
   "metadata": {},
   "outputs": [],
   "source": [
    "from roboticstoolbox.backends import swift"
   ]
  },
  {
   "cell_type": "markdown",
   "metadata": {},
   "source": [
    "### **Topic 1 : 개요**"
   ]
  },
  {
   "cell_type": "markdown",
   "metadata": {},
   "source": [
    "기본적으로 `Swift`는 웹 브라우저 기반의 시뮬레이터이며, 아래와 같이 실행시키면 현재 플랫폼에서 사용하는 웹 브라우저의 새 탭에 시뮬레이션 환경을 띄웁니다."
   ]
  },
  {
   "cell_type": "code",
   "execution_count": 3,
   "metadata": {},
   "outputs": [],
   "source": [
    "env = swift.Swift()\n",
    "env.launch()"
   ]
  },
  {
   "cell_type": "markdown",
   "metadata": {},
   "source": [
    "만약 Jupyter notebook 안에서 실행시키고 싶다면, 아래와 같이 `brower=\"notebook\"`이라는 옵션을 추가하면 됩니다."
   ]
  },
  {
   "cell_type": "code",
   "execution_count": 4,
   "metadata": {},
   "outputs": [
    {
     "data": {
      "text/html": [
       "\n",
       "        <iframe\n",
       "            width=\"600\"\n",
       "            height=\"400\"\n",
       "            src=\"http://localhost:52001/?53001\"\n",
       "            frameborder=\"0\"\n",
       "            allowfullscreen\n",
       "            \n",
       "        ></iframe>\n",
       "        "
      ],
      "text/plain": [
       "<IPython.lib.display.IFrame at 0x1ce35b8aff0>"
      ]
     },
     "metadata": {},
     "output_type": "display_data"
    }
   ],
   "source": [
    "env.launch(realtime=True, browser=\"notebook\")"
   ]
  },
  {
   "cell_type": "markdown",
   "metadata": {},
   "source": [
    "  **혹시 Swift 환경이 제대로 작동하지 않는다면, 아래 내용을 참고해주세요.**\n",
    "- (Windows 환경에서) Swift가 제대로 동작하지 않는 경우에는, Swift Library 내의 SwiftRoute.py의 특정 경로를 새로 지정해주서야 합니다. \n",
    "- swift 파일 위치는 print 함수를 통해 얻을 수 있습니다.\n",
    "- 자세한 사항은 아래 링크의 내용을 확인해보시기 바랍니다. (https://github.com/petercorke/robotics-toolbox-python/issues/383)"
   ]
  },
  {
   "cell_type": "code",
   "execution_count": 5,
   "metadata": {},
   "outputs": [
    {
     "name": "stdout",
     "output_type": "stream",
     "text": [
      "<module 'roboticstoolbox.backends.swift' from 'c:\\\\Users\\\\user\\\\AppData\\\\Local\\\\Programs\\\\Python\\\\Python312\\\\Lib\\\\site-packages\\\\roboticstoolbox\\\\backends\\\\swift\\\\__init__.py'>\n"
     ]
    }
   ],
   "source": [
    "print(swift)"
   ]
  },
  {
   "cell_type": "markdown",
   "metadata": {},
   "source": [
    "앞서 소개한 대로 Swift 환경에서는 URDF 모델을 불러오고 시뮬레이션할 수 있습니다."
   ]
  },
  {
   "cell_type": "code",
   "execution_count": 6,
   "metadata": {},
   "outputs": [
    {
     "name": "stdout",
     "output_type": "stream",
     "text": [
      "Retrieving file: C:/Users/user/AppData/Local/Programs/Python/Python312/Lib/site-packages/rtbdata/xacro/franka_description/meshes/visual/link0.dae\n",
      "Retrieving file: C:/Users/user/AppData/Local/Programs/Python/Python312/Lib/site-packages/rtbdata/xacro/franka_description/meshes/visual/link1.dae\n",
      "Retrieving file: C:/Users/user/AppData/Local/Programs/Python/Python312/Lib/site-packages/rtbdata/xacro/franka_description/meshes/visual/link2.dae\n",
      "Retrieving file: C:/Users/user/AppData/Local/Programs/Python/Python312/Lib/site-packages/rtbdata/xacro/franka_description/meshes/visual/link3.dae\n",
      "Retrieving file: C:/Users/user/AppData/Local/Programs/Python/Python312/Lib/site-packages/rtbdata/xacro/franka_description/meshes/visual/link4.dae\n",
      "Retrieving file: C:/Users/user/AppData/Local/Programs/Python/Python312/Lib/site-packages/rtbdata/xacro/franka_description/meshes/visual/link5.dae\n",
      "Retrieving file: C:/Users/user/AppData/Local/Programs/Python/Python312/Lib/site-packages/rtbdata/xacro/franka_description/meshes/visual/link6.dae\n",
      "Retrieving file: C:/Users/user/AppData/Local/Programs/Python/Python312/Lib/site-packages/rtbdata/xacro/franka_description/meshes/visual/link7.dae\n",
      "Retrieving file: C:/Users/user/AppData/Local/Programs/Python/Python312/Lib/site-packages/rtbdata/xacro/franka_description/meshes/visual/hand.dae\n",
      "Retrieving file: C:/Users/user/AppData/Local/Programs/Python/Python312/Lib/site-packages/rtbdata/xacro/franka_description/meshes/visual/finger.dae\n"
     ]
    },
    {
     "data": {
      "text/plain": [
       "Swift backend, t = 0.05, scene:\n",
       "  panda"
      ]
     },
     "execution_count": 6,
     "metadata": {},
     "output_type": "execute_result"
    }
   ],
   "source": [
    "panda = rtb.models.URDF.Panda()\n",
    "panda.plot(panda.qr)"
   ]
  },
  {
   "cell_type": "markdown",
   "metadata": {},
   "source": [
    "### **Topic 2 : Collision Detection**"
   ]
  },
  {
   "cell_type": "markdown",
   "metadata": {},
   "source": [
    "Robotics에서 활용하는 여러 시뮬레이터들과 유사하게, `Swift` 역시 로봇과 객체 사이의 충돌 감지 알고리즘을 제공합니다.\\\n",
    "이를 확인하기 위해 다음의 환경을 설정합시다."
   ]
  },
  {
   "cell_type": "code",
   "execution_count": 7,
   "metadata": {},
   "outputs": [
    {
     "name": "stdout",
     "output_type": "stream",
     "text": [
      "Retrieving file: C:/Users/user/AppData/Local/Programs/Python/Python312/Lib/site-packages/rtbdata/xacro/franka_description/meshes/visual/link0.dae\n",
      "Retrieving file: C:/Users/user/AppData/Local/Programs/Python/Python312/Lib/site-packages/rtbdata/xacro/franka_description/meshes/visual/link1.dae\n",
      "Retrieving file: C:/Users/user/AppData/Local/Programs/Python/Python312/Lib/site-packages/rtbdata/xacro/franka_description/meshes/visual/link2.dae\n",
      "Retrieving file: C:/Users/user/AppData/Local/Programs/Python/Python312/Lib/site-packages/rtbdata/xacro/franka_description/meshes/visual/link3.dae\n",
      "Retrieving file: C:/Users/user/AppData/Local/Programs/Python/Python312/Lib/site-packages/rtbdata/xacro/franka_description/meshes/visual/link4.dae\n",
      "Retrieving file: C:/Users/user/AppData/Local/Programs/Python/Python312/Lib/site-packages/rtbdata/xacro/franka_description/meshes/visual/link5.dae\n",
      "Retrieving file: C:/Users/user/AppData/Local/Programs/Python/Python312/Lib/site-packages/rtbdata/xacro/franka_description/meshes/visual/link6.dae\n",
      "Retrieving file: C:/Users/user/AppData/Local/Programs/Python/Python312/Lib/site-packages/rtbdata/xacro/franka_description/meshes/visual/link7.dae\n",
      "Retrieving file: C:/Users/user/AppData/Local/Programs/Python/Python312/Lib/site-packages/rtbdata/xacro/franka_description/meshes/visual/hand.dae\n",
      "Retrieving file: C:/Users/user/AppData/Local/Programs/Python/Python312/Lib/site-packages/rtbdata/xacro/franka_description/meshes/visual/finger.dae\n"
     ]
    }
   ],
   "source": [
    "env = panda.plot(panda.qr, backend=\"swift\")\n",
    "from spatialgeometry import Cuboid\n",
    "box = Cuboid([1, 1, 1], pose=sm.SE3.Tx(1.1))\n",
    "\n",
    "env.add(box) # add box to graphics\n",
    "env.step() # update the graphics"
   ]
  },
  {
   "cell_type": "markdown",
   "metadata": {},
   "source": [
    "현재 로봇과 박스 사이에는 접촉이 없는 것을 눈으로 확인할 수 있습니다.\\\n",
    "이제 `iscollided` 함수를 이용하여, 이 사실을 출력해보도록 합시다.\\\n",
    "(위 기능을 사용하기 위해서는 `pybullet` 패키지가 필요합니다.)"
   ]
  },
  {
   "cell_type": "code",
   "execution_count": 8,
   "metadata": {},
   "outputs": [
    {
     "data": {
      "text/plain": [
       "False"
      ]
     },
     "execution_count": 8,
     "metadata": {},
     "output_type": "execute_result"
    }
   ],
   "source": [
    "panda.iscollided(panda.qr, box)"
   ]
  },
  {
   "cell_type": "markdown",
   "metadata": {},
   "source": [
    "Box의 위치를 조금 수정하면 다른 결과가 나옴을 아래와 같이 확인할 수 있습니다."
   ]
  },
  {
   "cell_type": "code",
   "execution_count": 9,
   "metadata": {},
   "outputs": [
    {
     "name": "stdout",
     "output_type": "stream",
     "text": [
      "Retrieving file: C:/Users/user/AppData/Local/Programs/Python/Python312/Lib/site-packages/rtbdata/xacro/franka_description/meshes/visual/link0.dae\n",
      "Retrieving file: C:/Users/user/AppData/Local/Programs/Python/Python312/Lib/site-packages/rtbdata/xacro/franka_description/meshes/visual/link1.dae\n",
      "Retrieving file: C:/Users/user/AppData/Local/Programs/Python/Python312/Lib/site-packages/rtbdata/xacro/franka_description/meshes/visual/link2.dae\n",
      "Retrieving file: C:/Users/user/AppData/Local/Programs/Python/Python312/Lib/site-packages/rtbdata/xacro/franka_description/meshes/visual/link3.dae\n",
      "Retrieving file: C:/Users/user/AppData/Local/Programs/Python/Python312/Lib/site-packages/rtbdata/xacro/franka_description/meshes/visual/link4.dae\n",
      "Retrieving file: C:/Users/user/AppData/Local/Programs/Python/Python312/Lib/site-packages/rtbdata/xacro/franka_description/meshes/visual/link5.dae\n",
      "Retrieving file: C:/Users/user/AppData/Local/Programs/Python/Python312/Lib/site-packages/rtbdata/xacro/franka_description/meshes/visual/link6.dae\n",
      "Retrieving file: C:/Users/user/AppData/Local/Programs/Python/Python312/Lib/site-packages/rtbdata/xacro/franka_description/meshes/visual/link7.dae\n",
      "Retrieving file: C:/Users/user/AppData/Local/Programs/Python/Python312/Lib/site-packages/rtbdata/xacro/franka_description/meshes/visual/hand.dae\n",
      "Retrieving file: C:/Users/user/AppData/Local/Programs/Python/Python312/Lib/site-packages/rtbdata/xacro/franka_description/meshes/visual/finger.dae\n"
     ]
    },
    {
     "data": {
      "text/plain": [
       "True"
      ]
     },
     "execution_count": 9,
     "metadata": {},
     "output_type": "execute_result"
    }
   ],
   "source": [
    "env2 = panda.plot(panda.qr, backend=\"swift\")\n",
    "from spatialgeometry import Cuboid\n",
    "box2 = Cuboid([1, 1, 1], pose=sm.SE3.Tx(1))\n",
    "\n",
    "env2.add(box2) # add box to graphics\n",
    "env2.step() # update the graphics"
   ]
  },
  {
   "cell_type": "code",
   "execution_count": null,
   "metadata": {},
   "outputs": [],
   "source": [
    "panda.iscollided(panda.qr, box2)"
   ]
  },
  {
   "cell_type": "markdown",
   "metadata": {},
   "source": [
    "### **Topic 3 : Resolved-rate Motion Control**"
   ]
  },
  {
   "cell_type": "markdown",
   "metadata": {},
   "source": [
    "아래는 github repo.(https://github.com/jhavl/swift)에서 제공하는 panda의 motion control 시뮬레이션 예제입니다.\\\n",
    "사용한 주요 함수들은 아래와 같습니다. \n",
    "- `fkine` : 로봇의 forward kinematics를 계산해주는 함수입니다. \n",
    "- `p_servo` : 로봇의 end-effector를 특정 configuration으로 이동하게 해주는 end-effector velocity를 생성합니다. (제어 관련 함수)\n",
    "- `pinv` : 어떤 행렬의 Pseudo-inverse를 출력하는 함수입니다."
   ]
  },
  {
   "cell_type": "code",
   "execution_count": 12,
   "metadata": {},
   "outputs": [
    {
     "data": {
      "text/html": [
       "\n",
       "        <iframe\n",
       "            width=\"600\"\n",
       "            height=\"400\"\n",
       "            src=\"http://localhost:52007/?53007\"\n",
       "            frameborder=\"0\"\n",
       "            allowfullscreen\n",
       "            \n",
       "        ></iframe>\n",
       "        "
      ],
      "text/plain": [
       "<IPython.lib.display.IFrame at 0x1ce39e9f050>"
      ]
     },
     "metadata": {},
     "output_type": "display_data"
    },
    {
     "name": "stderr",
     "output_type": "stream",
     "text": [
      "c:\\Users\\user\\AppData\\Local\\Programs\\Python\\Python312\\Lib\\site-packages\\spatialgeometry\\geom\\Shape.py:81: FutureWarning: base kwarg is deprecated, use pose instead\n",
      "  warn(\"base kwarg is deprecated, use pose instead\", FutureWarning)\n"
     ]
    },
    {
     "name": "stdout",
     "output_type": "stream",
     "text": [
      "Retrieving file: C:/Users/user/AppData/Local/Programs/Python/Python312/Lib/site-packages/rtbdata/xacro/franka_description/meshes/visual/link0.dae\n",
      "Retrieving file: C:/Users/user/AppData/Local/Programs/Python/Python312/Lib/site-packages/rtbdata/xacro/franka_description/meshes/visual/link1.dae\n",
      "Retrieving file: C:/Users/user/AppData/Local/Programs/Python/Python312/Lib/site-packages/rtbdata/xacro/franka_description/meshes/visual/link2.dae\n",
      "Retrieving file: C:/Users/user/AppData/Local/Programs/Python/Python312/Lib/site-packages/rtbdata/xacro/franka_description/meshes/visual/link3.dae\n",
      "Retrieving file: C:/Users/user/AppData/Local/Programs/Python/Python312/Lib/site-packages/rtbdata/xacro/franka_description/meshes/visual/link4.dae\n",
      "Retrieving file: C:/Users/user/AppData/Local/Programs/Python/Python312/Lib/site-packages/rtbdata/xacro/franka_description/meshes/visual/link5.dae\n",
      "Retrieving file: C:/Users/user/AppData/Local/Programs/Python/Python312/Lib/site-packages/rtbdata/xacro/franka_description/meshes/visual/link6.dae\n",
      "Retrieving file: C:/Users/user/AppData/Local/Programs/Python/Python312/Lib/site-packages/rtbdata/xacro/franka_description/meshes/visual/link7.dae\n",
      "Retrieving file: C:/Users/user/AppData/Local/Programs/Python/Python312/Lib/site-packages/rtbdata/xacro/franka_description/meshes/visual/hand.dae\n",
      "Retrieving file: C:/Users/user/AppData/Local/Programs/Python/Python312/Lib/site-packages/rtbdata/xacro/franka_description/meshes/visual/finger.dae\n"
     ]
    },
    {
     "ename": "AttributeError",
     "evalue": "'Swift' object has no attribute 'record_start'",
     "output_type": "error",
     "traceback": [
      "\u001b[1;31m---------------------------------------------------------------------------\u001b[0m",
      "\u001b[1;31mAttributeError\u001b[0m                            Traceback (most recent call last)",
      "Cell \u001b[1;32mIn[12], line 20\u001b[0m\n\u001b[0;32m     17\u001b[0m \u001b[38;5;66;03m# Simulate the robot while it has not arrived at the goal\u001b[39;00m\n\u001b[0;32m     18\u001b[0m arrived \u001b[38;5;241m=\u001b[39m \u001b[38;5;28;01mFalse\u001b[39;00m\n\u001b[1;32m---> 20\u001b[0m \u001b[43menv\u001b[49m\u001b[38;5;241;43m.\u001b[39;49m\u001b[43mrecord_start\u001b[49m(\u001b[38;5;241m5\u001b[39m)\n\u001b[0;32m     21\u001b[0m \u001b[38;5;28;01mwhile\u001b[39;00m \u001b[38;5;129;01mnot\u001b[39;00m arrived:\n\u001b[0;32m     22\u001b[0m     \u001b[38;5;66;03m# Work out the required end-effector velocity to go towards the goal\u001b[39;00m\n\u001b[0;32m     23\u001b[0m     v, arrived \u001b[38;5;241m=\u001b[39m rtb\u001b[38;5;241m.\u001b[39mp_servo(panda\u001b[38;5;241m.\u001b[39mfkine(panda\u001b[38;5;241m.\u001b[39mq), Tep, gain \u001b[38;5;241m=\u001b[39m \u001b[38;5;241m1\u001b[39m, threshold \u001b[38;5;241m=\u001b[39m \u001b[38;5;241m0.02\u001b[39m)\n",
      "\u001b[1;31mAttributeError\u001b[0m: 'Swift' object has no attribute 'record_start'"
     ]
    }
   ],
   "source": [
    "import spatialgeometry as sg\n",
    "\n",
    "# Make and instance of the Swift simulator and open it\n",
    "env = swift.Swift()\n",
    "env.launch(realtime=True, browser=\"notebook\")\n",
    "\n",
    "panda.q = panda.qr\n",
    "\n",
    "# Set a desired and effector pose an an offset from the current end-effector pose\n",
    "Tep = panda.fkine(panda.q) * sm.SE3.Tx(0.2) * sm.SE3.Ty(0.2) * sm.SE3.Tz(0.3)\n",
    "axes = sg.Axes(length=0.3, base=Tep)\n",
    "env.add(axes)\n",
    "\n",
    "# Add the robot to the simulator\n",
    "env.add(panda)\n",
    "\n",
    "# Simulate the robot while it has not arrived at the goal\n",
    "arrived = False\n",
    "\n",
    "while not arrived:\n",
    "    # Work out the required end-effector velocity to go towards the goal\n",
    "    v, arrived = rtb.p_servo(panda.fkine(panda.q), Tep, gain = 1, threshold = 0.02)\n",
    "    \n",
    "    # Set the Panda's joint velocities\n",
    "    panda.qd = np.linalg.pinv(panda.jacobe(panda.q)) @ v\n",
    "    \n",
    "    # Step the simulator by 1 milliseconds\n",
    "    env.step(0.001) \n"
   ]
  }
 ],
 "metadata": {
  "kernelspec": {
   "display_name": "Python 3",
   "language": "python",
   "name": "python3"
  },
  "language_info": {
   "codemirror_mode": {
    "name": "ipython",
    "version": 3
   },
   "file_extension": ".py",
   "mimetype": "text/x-python",
   "name": "python",
   "nbconvert_exporter": "python",
   "pygments_lexer": "ipython3",
   "version": "3.12.2"
  }
 },
 "nbformat": 4,
 "nbformat_minor": 2
}
